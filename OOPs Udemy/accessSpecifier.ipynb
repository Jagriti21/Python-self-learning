{
 "cells": [
  {
   "cell_type": "code",
   "execution_count": 8,
   "metadata": {},
   "outputs": [
    {
     "name": "stdout",
     "output_type": "stream",
     "text": [
      "public attribute number of wheels:  4\n",
      "Protected attribute color:  Black\n",
      "private attribute year of manufacture:  2017\n"
     ]
    }
   ],
   "source": [
    "class Car:\n",
    "    numberOfWheels = 4\n",
    "    _color = \"Black\"\n",
    "    __yearOfManufacture = 2017\n",
    "    \n",
    "class BMW(Car):\n",
    "    def __init__(self):\n",
    "        print(\"Protected attribute color: \", self._color)\n",
    " \n",
    "car = Car()\n",
    "print(\"public attribute number of wheels: \", car.numberOfWheels)\n",
    "\n",
    "bmw = BMW()\n",
    "print(\"private attribute year of manufacture: \", car._Car__yearOfManufacture)"
   ]
  },
  {
   "cell_type": "code",
   "execution_count": null,
   "metadata": {},
   "outputs": [],
   "source": []
  }
 ],
 "metadata": {
  "kernelspec": {
   "display_name": "Python 3",
   "language": "python",
   "name": "python3"
  },
  "language_info": {
   "codemirror_mode": {
    "name": "ipython",
    "version": 3
   },
   "file_extension": ".py",
   "mimetype": "text/x-python",
   "name": "python",
   "nbconvert_exporter": "python",
   "pygments_lexer": "ipython3",
   "version": "3.8.3"
  }
 },
 "nbformat": 4,
 "nbformat_minor": 4
}
