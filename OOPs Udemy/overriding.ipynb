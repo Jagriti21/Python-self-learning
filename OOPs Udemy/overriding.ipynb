{
 "cells": [
  {
   "cell_type": "code",
   "execution_count": 9,
   "metadata": {},
   "outputs": [
    {
     "name": "stdout",
     "output_type": "stream",
     "text": [
      "Number of working hours of employee 40\n",
      "Number of working hours of trainee 45\n",
      "Number of working hours of trainee after reset 40\n"
     ]
    }
   ],
   "source": [
    "class Employee:\n",
    "    def setNumberOfWorkingHours(self):\n",
    "        self.numberOfWorkingHours = 40\n",
    "        \n",
    "    def displayNumberOfWorkingHours(self):\n",
    "         print(self.numberOfWorkingHours)\n",
    "         \n",
    "class Trainee(Employee):\n",
    "     def setNumberOfWorkingHours(self):\n",
    "         self.numberOfWorkingHours = 45\n",
    "         \n",
    "     def resetNumberOfWorkingHours(self):\n",
    "         super().setNumberOfWorkingHours()\n",
    "         \n",
    "employee = Employee()\n",
    "employee.setNumberOfWorkingHours()\n",
    "print(\"Number of working hours of employee \", end = '')\n",
    "employee.displayNumberOfWorkingHours()\n",
    "\n",
    "trainee = Trainee()\n",
    "trainee.setNumberOfWorkingHours()\n",
    "print(\"Number of working hours of trainee \", end = '')\n",
    "trainee.displayNumberOfWorkingHours()\n",
    "trainee.resetNumberOfWorkingHours()\n",
    "print(\"Number of working hours of trainee after reset \", end = '')\n",
    "trainee.displayNumberOfWorkingHours()"
   ]
  },
  {
   "cell_type": "code",
   "execution_count": null,
   "metadata": {},
   "outputs": [],
   "source": []
  }
 ],
 "metadata": {
  "kernelspec": {
   "display_name": "Python 3",
   "language": "python",
   "name": "python3"
  },
  "language_info": {
   "codemirror_mode": {
    "name": "ipython",
    "version": 3
   },
   "file_extension": ".py",
   "mimetype": "text/x-python",
   "name": "python",
   "nbconvert_exporter": "python",
   "pygments_lexer": "ipython3",
   "version": "3.8.3"
  }
 },
 "nbformat": 4,
 "nbformat_minor": 4
}
