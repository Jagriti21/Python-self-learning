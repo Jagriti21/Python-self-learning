{
 "cells": [
  {
   "cell_type": "code",
   "execution_count": null,
   "metadata": {},
   "outputs": [],
   "source": [
    "#class library\n",
    "#abstraction -  display available books, lend books, add book\n",
    "\n",
    "#class customer\n",
    "#abstraction - request for a book, return a book"
   ]
  },
  {
   "cell_type": "code",
   "execution_count": null,
   "metadata": {},
   "outputs": [],
   "source": [
    "class Library:\n",
    "    \n",
    "    def __init__(self, listOfBooks):\n",
    "        self.availableBooks = listOfBooks\n",
    "    \n",
    "    def displayAvailableBooks(self):\n",
    "        print()\n",
    "        print(\"Available Books\")\n",
    "        for book in self.availableBooks:\n",
    "            print(book)\n",
    "    \n",
    "    def lendBook(self, requestedBook):\n",
    "        if requestedBook in self.availableBooks:\n",
    "            print(\"You have now borrowed the book\")\n",
    "            self.availableBooks.remove(requestedBook)\n",
    "        else:\n",
    "            print(\"Sorry, Book is not available\")\n",
    "    \n",
    "    def addBook(self, returnedBook):\n",
    "        self.availableBooks.append(returnedBook)\n",
    "        print(\"You have returned the book. Thank you\")"
   ]
  },
  {
   "cell_type": "code",
   "execution_count": 2,
   "metadata": {},
   "outputs": [],
   "source": [
    "class Customer:\n",
    "    \n",
    "    def requestBook(self):\n",
    "        print(\"Enter the name of book to borrow\")\n",
    "        self.book = input()\n",
    "        return self.book\n",
    "    \n",
    "    def returnBook(self):\n",
    "        print(\"Enter name of book you want to return\")\n",
    "        self.book = input()\n",
    "        return self.book"
   ]
  },
  {
   "cell_type": "code",
   "execution_count": null,
   "metadata": {},
   "outputs": [],
   "source": [
    "library = Library([\"Think and grow rich\", \"Who will cry when you die\",\"For one more day\"])\n",
    "\n",
    "customer = Customer()\n",
    "while True:\n",
    "    print('Enter 1 to display the available books')\n",
    "    print('Enter 2 to request book')\n",
    "    print('Enter 3 to return a book')\n",
    "    print('Enter 4 to exit')\n",
    "\n",
    "    userChoice = int(input())\n",
    "\n",
    "    if userChoice == 1:\n",
    "        library.displayAvailableBooks()\n",
    "    elif userChoice == 2:\n",
    "        requestedBook = customer.requestBook()\n",
    "        library.lendBook(requestedBook)\n",
    "    elif userChoice == 3:\n",
    "        returnedBook = customer.returnBook()\n",
    "        library.addBook(returnedBook)\n",
    "    elif userChoice == 4:\n",
    "        break\n",
    "         \n",
    "    else:\n",
    "        print('Wrong Input')"
   ]
  },
  {
   "cell_type": "code",
   "execution_count": null,
   "metadata": {},
   "outputs": [],
   "source": []
  }
 ],
 "metadata": {
  "kernelspec": {
   "display_name": "Python 3",
   "language": "python",
   "name": "python3"
  },
  "language_info": {
   "codemirror_mode": {
    "name": "ipython",
    "version": 3
   },
   "file_extension": ".py",
   "mimetype": "text/x-python",
   "name": "python",
   "nbconvert_exporter": "python",
   "pygments_lexer": "ipython3",
   "version": "3.8.3"
  }
 },
 "nbformat": 4,
 "nbformat_minor": 4
}
