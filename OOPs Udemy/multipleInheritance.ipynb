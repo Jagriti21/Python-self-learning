{
 "cells": [
  {
   "cell_type": "code",
   "execution_count": 9,
   "metadata": {},
   "outputs": [],
   "source": [
    "class OperatingSystem:\n",
    "    multitasking = True\n",
    "    name = \"MAC OS\"\n",
    "\n",
    "class Apple:\n",
    "    website = \"www.apple.com\"\n",
    "    name = \"APPLE\"\n",
    "    \n",
    "class MB(OperatingSystem, Apple):\n",
    "    def __init__(self):\n",
    "        if self.multitasking == True:\n",
    "            print(\"This is a multitasking system. Visit {} for more details\".format(self.website))\n"
   ]
  },
  {
   "cell_type": "code",
   "execution_count": 11,
   "metadata": {},
   "outputs": [
    {
     "name": "stdout",
     "output_type": "stream",
     "text": [
      "This is a multitasking system. Visit www.apple.com for more details\n"
     ]
    }
   ],
   "source": [
    "macbook = MB()"
   ]
  },
  {
   "cell_type": "code",
   "execution_count": null,
   "metadata": {},
   "outputs": [],
   "source": []
  }
 ],
 "metadata": {
  "kernelspec": {
   "display_name": "Python 3",
   "language": "python",
   "name": "python3"
  },
  "language_info": {
   "codemirror_mode": {
    "name": "ipython",
    "version": 3
   },
   "file_extension": ".py",
   "mimetype": "text/x-python",
   "name": "python",
   "nbconvert_exporter": "python",
   "pygments_lexer": "ipython3",
   "version": "3.8.3"
  }
 },
 "nbformat": 4,
 "nbformat_minor": 4
}
