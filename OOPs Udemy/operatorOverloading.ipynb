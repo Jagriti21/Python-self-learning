{
 "cells": [
  {
   "cell_type": "code",
   "execution_count": 2,
   "metadata": {},
   "outputs": [
    {
     "name": "stdout",
     "output_type": "stream",
     "text": [
      "Sum of sides of both the squares:  60\n"
     ]
    }
   ],
   "source": [
    "class Square:\n",
    "    def __init__(self, side):\n",
    "        self.side = side\n",
    "        \n",
    "    def __add__(squareOne, squareTwo):\n",
    "        return ((4*squareOne.side) + (4*squareTwo.side))\n",
    "        \n",
    "squareOne = Square(5)\n",
    "\n",
    "squareTwo = Square(10)\n",
    "\n",
    "print(\"Sum of sides of both the squares: \", squareOne + squareTwo)"
   ]
  },
  {
   "cell_type": "code",
   "execution_count": null,
   "metadata": {},
   "outputs": [],
   "source": []
  }
 ],
 "metadata": {
  "kernelspec": {
   "display_name": "Python 3",
   "language": "python",
   "name": "python3"
  },
  "language_info": {
   "codemirror_mode": {
    "name": "ipython",
    "version": 3
   },
   "file_extension": ".py",
   "mimetype": "text/x-python",
   "name": "python",
   "nbconvert_exporter": "python",
   "pygments_lexer": "ipython3",
   "version": "3.8.3"
  }
 },
 "nbformat": 4,
 "nbformat_minor": 4
}
