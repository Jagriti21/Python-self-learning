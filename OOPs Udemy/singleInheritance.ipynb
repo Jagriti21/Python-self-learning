{
 "cells": [
  {
   "cell_type": "code",
   "execution_count": 3,
   "metadata": {},
   "outputs": [],
   "source": [
    "class Apple:\n",
    "    manufacturer = \"Apple Inc\"\n",
    "    contactWebsite = \"www.apple.com/contact\"\n",
    "    \n",
    "    def contactDetails(self):\n",
    "        print(\"To contact us, log on to\", self.contactWebsite)"
   ]
  },
  {
   "cell_type": "code",
   "execution_count": 4,
   "metadata": {},
   "outputs": [],
   "source": [
    "class MacBook(Apple):\n",
    "    def __init__(self):\n",
    "        self.yearOfManufacture = 2017\n",
    "        \n",
    "    def manufactureDetails(self):\n",
    "        print(\"This macbook for manufactured in the year {} by {}\".format(self.yearOfManufacture, self.manufacturer))\n",
    "        "
   ]
  },
  {
   "cell_type": "code",
   "execution_count": 5,
   "metadata": {},
   "outputs": [],
   "source": [
    "macbook = MacBook()"
   ]
  },
  {
   "cell_type": "code",
   "execution_count": 6,
   "metadata": {},
   "outputs": [
    {
     "name": "stdout",
     "output_type": "stream",
     "text": [
      "This macbook for manufactured in the year 2017 by Apple Inc\n",
      "To contact us, log on to www.apple.com/contact\n"
     ]
    }
   ],
   "source": [
    "macbook.manufactureDetails()\n",
    "macbook.contactDetails()"
   ]
  },
  {
   "cell_type": "code",
   "execution_count": null,
   "metadata": {},
   "outputs": [],
   "source": []
  }
 ],
 "metadata": {
  "kernelspec": {
   "display_name": "Python 3",
   "language": "python",
   "name": "python3"
  },
  "language_info": {
   "codemirror_mode": {
    "name": "ipython",
    "version": 3
   },
   "file_extension": ".py",
   "mimetype": "text/x-python",
   "name": "python",
   "nbconvert_exporter": "python",
   "pygments_lexer": "ipython3",
   "version": "3.8.3"
  }
 },
 "nbformat": 4,
 "nbformat_minor": 4
}
