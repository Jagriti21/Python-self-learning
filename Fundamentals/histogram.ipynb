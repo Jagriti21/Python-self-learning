{
 "cells": [
  {
   "cell_type": "code",
   "execution_count": 1,
   "metadata": {},
   "outputs": [
    {
     "name": "stdout",
     "output_type": "stream",
     "text": [
      "Earnings for WidgetCorp for 2016\n",
      "   Dollars for each quarter   \n",
      " ==============================\n",
      "Q1: ########      190000\n",
      "Q2: ################      340000\n",
      "Q3: ##########################################      873000\n",
      "Q4: ####################      439833\n"
     ]
    }
   ],
   "source": [
    "print (\"Earnings for WidgetCorp for 2016\")\n",
    "print (\"   Dollars for each quarter   \")\n",
    "print (\" ==============================\")\n",
    "q1 = 190000\n",
    "q1scaled = int(q1/20000)\n",
    "print (\"Q1: \", end=\"\")\n",
    "for k in range(1, q1scaled):\n",
    "    print ('#', end='')\n",
    "print (\"     \", q1)\n",
    "\n",
    "q2 = 340000\n",
    "q2scaled = int(q2/20000)\n",
    "print (\"Q2: \", end=\"\")\n",
    "for k in range(1, q2scaled):\n",
    "    print ('#', end='')\n",
    "print (\"     \", q2)\n",
    "\n",
    "q3 = 873000\n",
    "q3scaled = int(q3/20000)\n",
    "print (\"Q3: \", end=\"\")\n",
    "for k in range(1, q3scaled):\n",
    "    print ('#', end='')\n",
    "print (\"     \", q3)\n",
    "\n",
    "q4 = 439833\n",
    "q4scaled = int(q4/20000)\n",
    "print (\"Q4: \", end=\"\")\n",
    "for k in range(1, q4scaled):\n",
    "    print ('#', end='')\n",
    "print (\"     \", q4)"
   ]
  },
  {
   "cell_type": "code",
   "execution_count": null,
   "metadata": {},
   "outputs": [],
   "source": []
  }
 ],
 "metadata": {
  "kernelspec": {
   "display_name": "Python 3",
   "language": "python",
   "name": "python3"
  },
  "language_info": {
   "codemirror_mode": {
    "name": "ipython",
    "version": 3
   },
   "file_extension": ".py",
   "mimetype": "text/x-python",
   "name": "python",
   "nbconvert_exporter": "python",
   "pygments_lexer": "ipython3",
   "version": "3.8.3"
  }
 },
 "nbformat": 4,
 "nbformat_minor": 4
}
